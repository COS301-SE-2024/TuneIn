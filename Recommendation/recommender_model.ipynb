{
 "cells": [
  {
   "cell_type": "code",
   "execution_count": 5,
   "metadata": {},
   "outputs": [
    {
     "name": "stdout",
     "output_type": "stream",
     "text": [
      "Collecting python-dotenv\n",
      "  Downloading python_dotenv-1.0.1-py3-none-any.whl.metadata (23 kB)\n",
      "Downloading python_dotenv-1.0.1-py3-none-any.whl (19 kB)\n",
      "Installing collected packages: python-dotenv\n",
      "Successfully installed python-dotenv-1.0.1\n"
     ]
    }
   ],
   "source": [
    "!pip install python-dotenv"
   ]
  },
  {
   "cell_type": "code",
   "execution_count": 6,
   "metadata": {},
   "outputs": [
    {
     "name": "stdout",
     "output_type": "stream",
     "text": [
      "environ({'$PATH': 'C:\\\\Users\\\\Thabiso\\\\AppData\\\\Local\\\\Programs\\\\Python\\\\Python311;C:\\\\Users\\\\Thabiso\\\\Documents\\\\Python Scripts;C:\\\\Users\\\\Thabiso\\\\AppData\\\\Local\\\\Microsoft\\\\WindowsApps;C:\\\\msys64\\\\mingw64\\\\bin;C:\\\\Users\\\\Thabiso\\\\AppData\\\\Local\\\\Android\\\\Sdk;', '%PATH': 'C:\\\\msys64\\\\mingw64\\\\bin', 'ALLUSERSPROFILE': 'C:\\\\ProgramData', 'ANDROID_HOME': 'C:\\\\Users\\\\Thabiso\\\\AppData\\\\Local\\\\Android\\\\Sdk', 'APPDATA': 'C:\\\\Users\\\\Thabiso\\\\AppData\\\\Roaming', 'APPLICATION_INSIGHTS_NO_DIAGNOSTIC_CHANNEL': '1', 'CHOCOLATEYINSTALL': 'C:\\\\ProgramData\\\\chocolatey', 'CHOCOLATEYLASTPATHUPDATE': '133323455441454266', 'CHOCOLATEYTOOLSLOCATION': 'C:\\\\tools', 'CHROME_CRASHPAD_PIPE_NAME': '\\\\\\\\.\\\\pipe\\\\crashpad_30248_AHPBKZWQMUHPAJBM', 'COMMONPROGRAMFILES': 'C:\\\\Program Files\\\\Common Files', 'COMMONPROGRAMFILES(X86)': 'C:\\\\Program Files (x86)\\\\Common Files', 'COMMONPROGRAMW6432': 'C:\\\\Program Files\\\\Common Files', 'COMPUTERNAME': 'LAPTOP-S1FCA8KS', 'COMSPEC': 'C:\\\\WINDOWS\\\\system32\\\\cmd.exe', 'DRIVERDATA': 'C:\\\\Windows\\\\System32\\\\Drivers\\\\DriverData', 'EFC_7192': '1', 'ELECTRON_RUN_AS_NODE': '1', 'FPS_BROWSER_APP_PROFILE_STRING': 'Internet Explorer', 'FPS_BROWSER_USER_PROFILE_STRING': 'Default', 'HOMEDRIVE': 'C:', 'HOMEPATH': '\\\\Users\\\\Thabiso', 'JAVA_HOME': 'C:\\\\Program Files\\\\Microsoft\\\\jdk-17.0.11.9-hotspot\\\\', 'JPY_INTERRUPT_EVENT': '2672', 'LOCALAPPDATA': 'C:\\\\Users\\\\Thabiso\\\\AppData\\\\Local', 'LOGONSERVER': '\\\\\\\\LAPTOP-S1FCA8KS', 'NUMBER_OF_PROCESSORS': '8', 'NVM_HOME': 'C:\\\\Users\\\\Thabiso\\\\AppData\\\\Roaming\\\\nvm', 'NVM_SYMLINK': 'C:\\\\Program Files\\\\nodejs', 'ONEDRIVE': 'C:\\\\Users\\\\Thabiso\\\\OneDrive - University of Pretoria', 'ONEDRIVECOMMERCIAL': 'C:\\\\Users\\\\Thabiso\\\\OneDrive - University of Pretoria', 'ORIGINAL_XDG_CURRENT_DESKTOP': 'undefined', 'OS': 'Windows_NT', 'PATH': 'c:\\\\Users\\\\Thabiso\\\\AppData\\\\Local\\\\Programs\\\\Python\\\\Python311;c:\\\\Users\\\\Thabiso\\\\AppData\\\\Roaming\\\\Python\\\\Python311\\\\Scripts;C:\\\\Program Files\\\\Microsoft\\\\jdk-17.0.11.9-hotspot\\\\bin;C:\\\\Users\\\\Thabiso\\\\AppData\\\\Local\\\\Programs\\\\Python\\\\Python311\\\\Scripts\\\\;C:\\\\Users\\\\Thabiso\\\\AppData\\\\Local\\\\Programs\\\\Python\\\\Python311\\\\;C:\\\\Program Files\\\\Common Files\\\\Oracle\\\\Java\\\\javapath;C:\\\\Program Files (x86)\\\\Common Files\\\\Oracle\\\\Java\\\\javapath;C:\\\\WINDOWS\\\\system32;C:\\\\WINDOWS;C:\\\\WINDOWS\\\\System32\\\\Wbem;C:\\\\WINDOWS\\\\System32\\\\WindowsPowerShell\\\\v1.0\\\\;C:\\\\WINDOWS\\\\System32\\\\OpenSSH\\\\;C:\\\\ProgramData\\\\chocolatey\\\\bin;C:\\\\Program Files\\\\Git\\\\cmd;C:\\\\Program Files\\\\dotnet\\\\;C:\\\\Program Files\\\\swipl\\\\bin;C:\\\\Program Files\\\\Docker\\\\Docker\\\\resources\\\\bin;C:\\\\Users\\\\Thabiso\\\\AppData\\\\Roaming\\\\nvm;C:\\\\Program Files\\\\nodejs;C:\\\\Program Files\\\\Amazon\\\\AWSCLIV2\\\\;;C:\\\\Users\\\\Thabiso\\\\AppData\\\\Local\\\\Programs\\\\Microsoft VS Code\\\\bin;C:\\\\tools\\\\dart-sdk\\\\bin;C:\\\\Users\\\\Thabiso\\\\AppData\\\\Roaming\\\\Pub\\\\Cache\\\\bin;C:\\\\flutter\\\\bin;C:\\\\msys64\\\\mingw64\\\\bin;C:\\\\boost\\\\boost;C:\\\\Users\\\\Thabiso\\\\AppData\\\\Local\\\\GitHubDesktop\\\\bin;C:\\\\Program Files\\\\JetBrains\\\\PyCharm Community Edition 2022.3.2\\\\bin;;C:\\\\Users\\\\Thabiso\\\\AppData\\\\Roaming\\\\npm;C:\\\\texlive\\\\2024\\\\bin\\\\windows;C:\\\\Users\\\\Thabiso\\\\AppData\\\\Roaming\\\\nvm;C:\\\\Program Files\\\\nodejs;C:\\\\Program Files\\\\Microsoft\\\\jdk-17.0.11.9-hotspot\\\\bin;C:\\\\Users\\\\Thabiso\\\\AppData\\\\Local\\\\Programs\\\\Python\\\\Python311\\\\Scripts\\\\;C:\\\\Users\\\\Thabiso\\\\AppData\\\\Local\\\\Programs\\\\Python\\\\Python311\\\\;C:\\\\Program Files\\\\Common Files\\\\Oracle\\\\Java\\\\javapath;C:\\\\Program Files (x86)\\\\Common Files\\\\Oracle\\\\Java\\\\javapath;C:\\\\WINDOWS\\\\system32;C:\\\\WINDOWS;C:\\\\WINDOWS\\\\System32\\\\Wbem;C:\\\\WINDOWS\\\\System32\\\\WindowsPowerShell\\\\v1.0\\\\;C:\\\\WINDOWS\\\\System32\\\\OpenSSH\\\\;C:\\\\ProgramData\\\\chocolatey\\\\bin;C:\\\\Program Files\\\\Git\\\\cmd;C:\\\\Program Files\\\\dotnet\\\\;C:\\\\Program Files\\\\swipl\\\\bin;C:\\\\Program Files\\\\Docker\\\\Docker\\\\resources\\\\bin;C:\\\\Users\\\\Thabiso\\\\AppData\\\\Roaming\\\\nvm;C:\\\\Program Files\\\\nodejs;C:\\\\Program Files\\\\Amazon\\\\AWSCLIV2\\\\;;C:\\\\Users\\\\Thabiso\\\\AppData\\\\Local\\\\Programs\\\\Microsoft VS Code\\\\bin;C:\\\\tools\\\\dart-sdk\\\\bin;C:\\\\Users\\\\Thabiso\\\\AppData\\\\Roaming\\\\Pub\\\\Cache\\\\bin;C:\\\\flutter\\\\bin;C:\\\\msys64\\\\mingw64\\\\bin;C:\\\\boost\\\\boost;C:\\\\Users\\\\Thabiso\\\\AppData\\\\Local\\\\GitHubDesktop\\\\bin;C:\\\\Program Files\\\\JetBrains\\\\PyCharm Community Edition 2022.3.2\\\\bin;;C:\\\\Users\\\\Thabiso\\\\AppData\\\\Roaming\\\\npm;C:\\\\texlive\\\\2024\\\\bin\\\\windows;C:\\\\Users\\\\Thabiso\\\\AppData\\\\Roaming\\\\nvm;C:\\\\Program Files\\\\nodejs', 'PATHEXT': '.COM;.EXE;.BAT;.CMD;.VBS;.VBE;.JS;.JSE;.WSF;.WSH;.MSC;.PY;.PYW', 'PROCESSOR_ARCHITECTURE': 'AMD64', 'PROCESSOR_IDENTIFIER': 'Intel64 Family 6 Model 140 Stepping 1, GenuineIntel', 'PROCESSOR_LEVEL': '6', 'PROCESSOR_REVISION': '8c01', 'PROGRAMDATA': 'C:\\\\ProgramData', 'PROGRAMFILES': 'C:\\\\Program Files', 'PROGRAMFILES(X86)': 'C:\\\\Program Files (x86)', 'PROGRAMW6432': 'C:\\\\Program Files', 'PSMODULEPATH': 'C:\\\\Program Files\\\\WindowsPowerShell\\\\Modules;C:\\\\WINDOWS\\\\system32\\\\WindowsPowerShell\\\\v1.0\\\\Modules', 'PUBLIC': 'C:\\\\Users\\\\Public', 'PYCHARM COMMUNITY EDITION': 'C:\\\\Program Files\\\\JetBrains\\\\PyCharm Community Edition 2022.3.2\\\\bin;', 'PYDEVD_IPYTHON_COMPATIBLE_DEBUGGING': '1', 'PYTHONIOENCODING': 'utf-8', 'PYTHONUNBUFFERED': '1', 'PYTHON_FROZEN_MODULES': 'on', 'RTOOLS43_HOME': 'C:\\\\rtools43', 'SESSIONNAME': 'Console', 'SYSTEMDRIVE': 'C:', 'SYSTEMROOT': 'C:\\\\WINDOWS', 'TEMP': 'C:\\\\Users\\\\Thabiso\\\\AppData\\\\Local\\\\Temp', 'TMP': 'C:\\\\Users\\\\Thabiso\\\\AppData\\\\Local\\\\Temp', 'USERDOMAIN': 'LAPTOP-S1FCA8KS', 'USERDOMAIN_ROAMINGPROFILE': 'LAPTOP-S1FCA8KS', 'USERNAME': 'Thabiso', 'USERPROFILE': 'C:\\\\Users\\\\Thabiso', 'VSCODE_AMD_ENTRYPOINT': 'vs/workbench/api/node/extensionHostProcess', 'VSCODE_CODE_CACHE_PATH': 'C:\\\\Users\\\\Thabiso\\\\AppData\\\\Roaming\\\\Code\\\\CachedData\\\\ea1445cc7016315d0f5728f8e8b12a45dc0a7286', 'VSCODE_CRASH_REPORTER_PROCESS_TYPE': 'extensionHost', 'VSCODE_CWD': 'C:\\\\Users\\\\Thabiso\\\\AppData\\\\Local\\\\Programs\\\\Microsoft VS Code', 'VSCODE_HANDLES_UNCAUGHT_ERRORS': 'true', 'VSCODE_IPC_HOOK': '\\\\\\\\.\\\\pipe\\\\87b7e7ea-1.91.0-main-sock', 'VSCODE_L10N_BUNDLE_LOCATION': '', 'VSCODE_NLS_CONFIG': '{\"locale\":\"en-us\",\"osLocale\":\"en-za\",\"availableLanguages\":{},\"_languagePackSupport\":true}', 'VSCODE_PID': '30248', 'WINDIR': 'C:\\\\WINDOWS', 'ZES_ENABLE_SYSMAN': '1', 'PYDEVD_USE_FRAME_EVAL': 'NO', 'TERM': 'xterm-color', 'CLICOLOR': '1', 'FORCE_COLOR': '1', 'CLICOLOR_FORCE': '1', 'PAGER': 'cat', 'GIT_PAGER': 'cat', 'MPLBACKEND': 'module://matplotlib_inline.backend_inline', 'SPOTIFY_CLIENT_ID': '4902747b9d7c4f4195b991f29f8a680a', 'SPOTIFY_CLIENT_SECRET': 'd654caa1e2d34a97ac2d2bee8a29e5bf'})\n"
     ]
    }
   ],
   "source": [
    "import spotipy\n",
    "from spotipy.oauth2 import SpotifyClientCredentials\n",
    "from collections import defaultdict\n",
    "import os\n",
    "from dotenv import load_dotenv\n",
    "\n",
    "load_dotenv()\n",
    "\n",
    "sp = spotipy.Spotify(auth_manager=SpotifyClientCredentials(client_id=os.environ[\"SPOTIFY_CLIENT_ID\"],\n",
    "                                                          client_secret=os.environ[\"SPOTIFY_CLIENT_SECRET\"]))"
   ]
  }
 ],
 "metadata": {
  "kernelspec": {
   "display_name": "Python 3",
   "language": "python",
   "name": "python3"
  },
  "language_info": {
   "codemirror_mode": {
    "name": "ipython",
    "version": 3
   },
   "file_extension": ".py",
   "mimetype": "text/x-python",
   "name": "python",
   "nbconvert_exporter": "python",
   "pygments_lexer": "ipython3",
   "version": "3.11.3"
  }
 },
 "nbformat": 4,
 "nbformat_minor": 2
}
