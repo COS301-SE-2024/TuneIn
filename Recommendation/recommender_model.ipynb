{
 "cells": [
  {
   "cell_type": "markdown",
   "metadata": {},
   "source": [
    "# Connecting to spotify client and laoding env variables\n",
    "### Also importing all the libraries required for this file"
   ]
  },
  {
   "cell_type": "code",
   "execution_count": 16,
   "metadata": {},
   "outputs": [],
   "source": [
    "import spotipy\n",
    "from spotipy.oauth2 import SpotifyClientCredentials\n",
    "from collections import defaultdict\n",
    "import os\n",
    "from dotenv import load_dotenv\n",
    "from collections import defaultdict\n",
    "from sklearn.metrics import euclidean_distances\n",
    "from scipy.spatial.distance import cdist\n",
    "import difflib\n",
    "import pandas as pd\n",
    "load_dotenv()\n",
    "\n",
    "sp = spotipy.Spotify(auth_manager=SpotifyClientCredentials(client_id=os.environ[\"SPOTIFY_CLIENT_ID\"],\n",
    "                                                          client_secret=os.environ[\"SPOTIFY_CLIENT_SECRET\"]))"
   ]
  },
  {
   "cell_type": "markdown",
   "metadata": {},
   "source": [
    "# Function to search song based on title and year"
   ]
  },
  {
   "cell_type": "code",
   "execution_count": 17,
   "metadata": {},
   "outputs": [],
   "source": [
    "def find_song(name, year):\n",
    "    song_data = defaultdict()\n",
    "    results = sp.search(q= 'track: {} year: {}'.format(name,year), limit=5)\n",
    "    if results['tracks']['items'] == []:\n",
    "        return None\n",
    "    print(results['tracks'])\n",
    "    results = results['tracks']['items'][0]\n",
    "    track_id = results['id']\n",
    "    audio_features = sp.audio_features(track_id)\n",
    "    print(audio_features)\n",
    "    audio_features = audio_features[0]\n",
    "    song_data['name'] = [name]\n",
    "    song_data['year'] = [year]\n",
    "    song_data['explicit'] = [int(results['explicit'])]\n",
    "    song_data['duration_ms'] = [results['duration_ms']]\n",
    "    song_data['popularity'] = [results['popularity']]\n",
    "\n",
    "    for key, value in audio_features.items():\n",
    "        song_data[key] = value\n",
    "\n",
    "    return pd.DataFrame(song_data)"
   ]
  },
  {
   "cell_type": "markdown",
   "metadata": {},
   "source": [
    "# Get song data function"
   ]
  },
  {
   "cell_type": "code",
   "execution_count": 18,
   "metadata": {},
   "outputs": [],
   "source": [
    "number_cols = ['valence', 'year', 'acousticness', 'danceability', 'duration_ms', 'energy', 'explicit',\n",
    " 'instrumentalness', 'key', 'liveness', 'loudness', 'mode', 'popularity', 'speechiness', 'tempo']\n",
    "def get_song_data(song, spotify_data):\n",
    "    \n",
    "    try:\n",
    "        song_data = spotify_data[(spotify_data['name'] == song['name']) \n",
    "                                & (spotify_data['year'] == song['year'])].iloc[0]\n",
    "        return song_data\n",
    "    \n",
    "    except IndexError:\n",
    "        return find_song(song['name'], song['year'])\n"
   ]
  },
  {
   "cell_type": "markdown",
   "metadata": {},
   "source": [
    "# Create a vector of song data from an array of songs"
   ]
  },
  {
   "cell_type": "code",
   "execution_count": 19,
   "metadata": {},
   "outputs": [],
   "source": [
    "def get_mean_vector(song_list, spotify_data):\n",
    "    \n",
    "    song_vectors = []\n",
    "    \n",
    "    for song in song_list:\n",
    "        song_data = get_song_data(song, spotify_data)\n",
    "        if song_data is None:\n",
    "            print('Warning: {} does not exist in Spotify or in database'.format(song['name']))\n",
    "            continue\n",
    "        song_vector = song_data[number_cols].values\n",
    "        song_vectors.append(song_vector)  \n",
    "    \n",
    "    song_matrix = np.array(list(song_vectors))\n",
    "    return np.mean(song_matrix, axis=0)"
   ]
  },
  {
   "cell_type": "code",
   "execution_count": 20,
   "metadata": {},
   "outputs": [
    {
     "name": "stdout",
     "output_type": "stream",
     "text": [
      "{'href': 'https://api.spotify.com/v1/search?query=track%3A+DRUNK+year%3A+2018&type=track&offset=0&limit=5', 'items': [{'album': {'album_type': 'single', 'artists': [{'external_urls': {'spotify': 'https://open.spotify.com/artist/6yEYr68BReibuoeyXQw79n'}, 'href': 'https://api.spotify.com/v1/artists/6yEYr68BReibuoeyXQw79n', 'id': '6yEYr68BReibuoeyXQw79n', 'name': 'Kode', 'type': 'artist', 'uri': 'spotify:artist:6yEYr68BReibuoeyXQw79n'}], 'available_markets': ['AR', 'AU', 'AT', 'BE', 'BO', 'BR', 'BG', 'CA', 'CL', 'CO', 'CR', 'CY', 'CZ', 'DK', 'DO', 'DE', 'EC', 'EE', 'SV', 'FI', 'FR', 'GR', 'GT', 'HN', 'HK', 'HU', 'IS', 'IE', 'IT', 'LV', 'LT', 'LU', 'MY', 'MT', 'MX', 'NL', 'NZ', 'NI', 'NO', 'PA', 'PY', 'PE', 'PH', 'PL', 'PT', 'SG', 'SK', 'ES', 'SE', 'CH', 'TW', 'TR', 'UY', 'US', 'GB', 'AD', 'LI', 'MC', 'ID', 'JP', 'TH', 'VN', 'RO', 'IL', 'ZA', 'SA', 'AE', 'BH', 'QA', 'OM', 'KW', 'EG', 'MA', 'DZ', 'TN', 'LB', 'JO', 'PS', 'IN', 'BY', 'KZ', 'MD', 'UA', 'AL', 'BA', 'HR', 'ME', 'MK', 'RS', 'SI', 'KR', 'BD', 'PK', 'LK', 'GH', 'KE', 'NG', 'TZ', 'UG', 'AG', 'AM', 'BS', 'BB', 'BZ', 'BT', 'BW', 'BF', 'CV', 'CW', 'DM', 'FJ', 'GM', 'GE', 'GD', 'GW', 'GY', 'HT', 'JM', 'KI', 'LS', 'LR', 'MW', 'MV', 'ML', 'MH', 'FM', 'NA', 'NR', 'NE', 'PW', 'PG', 'PR', 'WS', 'SM', 'ST', 'SN', 'SC', 'SL', 'SB', 'KN', 'LC', 'VC', 'SR', 'TL', 'TO', 'TT', 'TV', 'VU', 'AZ', 'BN', 'BI', 'KH', 'CM', 'TD', 'KM', 'GQ', 'SZ', 'GA', 'GN', 'KG', 'LA', 'MO', 'MR', 'MN', 'NP', 'RW', 'TG', 'UZ', 'ZW', 'BJ', 'MG', 'MU', 'MZ', 'AO', 'CI', 'DJ', 'ZM', 'CD', 'CG', 'IQ', 'LY', 'TJ', 'VE', 'ET', 'XK'], 'external_urls': {'spotify': 'https://open.spotify.com/album/51hwd3xbBiC7UTby2uKpI7'}, 'href': 'https://api.spotify.com/v1/albums/51hwd3xbBiC7UTby2uKpI7', 'id': '51hwd3xbBiC7UTby2uKpI7', 'images': [{'height': 640, 'url': 'https://i.scdn.co/image/ab67616d0000b273d751d0c9756efe746a738603', 'width': 640}, {'height': 300, 'url': 'https://i.scdn.co/image/ab67616d00001e02d751d0c9756efe746a738603', 'width': 300}, {'height': 64, 'url': 'https://i.scdn.co/image/ab67616d00004851d751d0c9756efe746a738603', 'width': 64}], 'name': 'Drunk Texts', 'release_date': '2022-06-23', 'release_date_precision': 'day', 'total_tracks': 1, 'type': 'album', 'uri': 'spotify:album:51hwd3xbBiC7UTby2uKpI7'}, 'artists': [{'external_urls': {'spotify': 'https://open.spotify.com/artist/6yEYr68BReibuoeyXQw79n'}, 'href': 'https://api.spotify.com/v1/artists/6yEYr68BReibuoeyXQw79n', 'id': '6yEYr68BReibuoeyXQw79n', 'name': 'Kode', 'type': 'artist', 'uri': 'spotify:artist:6yEYr68BReibuoeyXQw79n'}], 'available_markets': ['AR', 'AU', 'AT', 'BE', 'BO', 'BR', 'BG', 'CA', 'CL', 'CO', 'CR', 'CY', 'CZ', 'DK', 'DO', 'DE', 'EC', 'EE', 'SV', 'FI', 'FR', 'GR', 'GT', 'HN', 'HK', 'HU', 'IS', 'IE', 'IT', 'LV', 'LT', 'LU', 'MY', 'MT', 'MX', 'NL', 'NZ', 'NI', 'NO', 'PA', 'PY', 'PE', 'PH', 'PL', 'PT', 'SG', 'SK', 'ES', 'SE', 'CH', 'TW', 'TR', 'UY', 'US', 'GB', 'AD', 'LI', 'MC', 'ID', 'JP', 'TH', 'VN', 'RO', 'IL', 'ZA', 'SA', 'AE', 'BH', 'QA', 'OM', 'KW', 'EG', 'MA', 'DZ', 'TN', 'LB', 'JO', 'PS', 'IN', 'BY', 'KZ', 'MD', 'UA', 'AL', 'BA', 'HR', 'ME', 'MK', 'RS', 'SI', 'KR', 'BD', 'PK', 'LK', 'GH', 'KE', 'NG', 'TZ', 'UG', 'AG', 'AM', 'BS', 'BB', 'BZ', 'BT', 'BW', 'BF', 'CV', 'CW', 'DM', 'FJ', 'GM', 'GE', 'GD', 'GW', 'GY', 'HT', 'JM', 'KI', 'LS', 'LR', 'MW', 'MV', 'ML', 'MH', 'FM', 'NA', 'NR', 'NE', 'PW', 'PG', 'PR', 'WS', 'SM', 'ST', 'SN', 'SC', 'SL', 'SB', 'KN', 'LC', 'VC', 'SR', 'TL', 'TO', 'TT', 'TV', 'VU', 'AZ', 'BN', 'BI', 'KH', 'CM', 'TD', 'KM', 'GQ', 'SZ', 'GA', 'GN', 'KG', 'LA', 'MO', 'MR', 'MN', 'NP', 'RW', 'TG', 'UZ', 'ZW', 'BJ', 'MG', 'MU', 'MZ', 'AO', 'CI', 'DJ', 'ZM', 'CD', 'CG', 'IQ', 'LY', 'TJ', 'VE', 'ET', 'XK'], 'disc_number': 1, 'duration_ms': 170836, 'explicit': False, 'external_ids': {'isrc': 'QZK6Q2249232'}, 'external_urls': {'spotify': 'https://open.spotify.com/track/4EbkZDvPwVSM22b9udLZfq'}, 'href': 'https://api.spotify.com/v1/tracks/4EbkZDvPwVSM22b9udLZfq', 'id': '4EbkZDvPwVSM22b9udLZfq', 'is_local': False, 'name': 'Drunk Texts', 'popularity': 52, 'preview_url': 'https://p.scdn.co/mp3-preview/bf2494c38af62fdfcea59ac64f852ca22869f3f6?cid=4902747b9d7c4f4195b991f29f8a680a', 'track_number': 1, 'type': 'track', 'uri': 'spotify:track:4EbkZDvPwVSM22b9udLZfq'}, {'album': {'album_type': 'album', 'artists': [{'external_urls': {'spotify': 'https://open.spotify.com/artist/089ASSwOW4Cih3frNuDtUv'}, 'href': 'https://api.spotify.com/v1/artists/089ASSwOW4Cih3frNuDtUv', 'id': '089ASSwOW4Cih3frNuDtUv', 'name': '1oneam', 'type': 'artist', 'uri': 'spotify:artist:089ASSwOW4Cih3frNuDtUv'}], 'available_markets': ['AR', 'AU', 'AT', 'BE', 'BO', 'BR', 'BG', 'CA', 'CL', 'CO', 'CR', 'CY', 'CZ', 'DK', 'DO', 'DE', 'EC', 'EE', 'SV', 'FI', 'FR', 'GR', 'GT', 'HN', 'HK', 'HU', 'IS', 'IE', 'IT', 'LV', 'LT', 'LU', 'MY', 'MT', 'MX', 'NL', 'NZ', 'NI', 'NO', 'PA', 'PY', 'PE', 'PH', 'PL', 'PT', 'SG', 'SK', 'ES', 'SE', 'CH', 'TW', 'TR', 'UY', 'US', 'GB', 'AD', 'LI', 'MC', 'ID', 'JP', 'TH', 'VN', 'RO', 'IL', 'ZA', 'SA', 'AE', 'BH', 'QA', 'OM', 'KW', 'EG', 'MA', 'DZ', 'TN', 'LB', 'JO', 'PS', 'IN', 'BY', 'KZ', 'MD', 'UA', 'AL', 'BA', 'HR', 'ME', 'MK', 'RS', 'SI', 'KR', 'BD', 'PK', 'LK', 'GH', 'KE', 'NG', 'TZ', 'UG', 'AG', 'AM', 'BS', 'BB', 'BZ', 'BT', 'BW', 'BF', 'CV', 'CW', 'DM', 'FJ', 'GM', 'GE', 'GD', 'GW', 'GY', 'HT', 'JM', 'KI', 'LS', 'LR', 'MW', 'MV', 'ML', 'MH', 'FM', 'NA', 'NR', 'NE', 'PW', 'PG', 'PR', 'WS', 'SM', 'ST', 'SN', 'SC', 'SL', 'SB', 'KN', 'LC', 'VC', 'SR', 'TL', 'TO', 'TT', 'TV', 'VU', 'AZ', 'BN', 'BI', 'KH', 'CM', 'TD', 'KM', 'GQ', 'SZ', 'GA', 'GN', 'KG', 'LA', 'MO', 'MR', 'MN', 'NP', 'RW', 'TG', 'UZ', 'ZW', 'BJ', 'MG', 'MU', 'MZ', 'AO', 'CI', 'DJ', 'ZM', 'CD', 'CG', 'IQ', 'LY', 'TJ', 'VE', 'ET', 'XK'], 'external_urls': {'spotify': 'https://open.spotify.com/album/5lK460PBjAfJKtTqgRSkgN'}, 'href': 'https://api.spotify.com/v1/albums/5lK460PBjAfJKtTqgRSkgN', 'id': '5lK460PBjAfJKtTqgRSkgN', 'images': [{'height': 640, 'url': 'https://i.scdn.co/image/ab67616d0000b2733d2d00324b088ad7b0bd521e', 'width': 640}, {'height': 300, 'url': 'https://i.scdn.co/image/ab67616d00001e023d2d00324b088ad7b0bd521e', 'width': 300}, {'height': 64, 'url': 'https://i.scdn.co/image/ab67616d000048513d2d00324b088ad7b0bd521e', 'width': 64}], 'name': 'House Party', 'release_date': '2023-10-21', 'release_date_precision': 'day', 'total_tracks': 14, 'type': 'album', 'uri': 'spotify:album:5lK460PBjAfJKtTqgRSkgN'}, 'artists': [{'external_urls': {'spotify': 'https://open.spotify.com/artist/089ASSwOW4Cih3frNuDtUv'}, 'href': 'https://api.spotify.com/v1/artists/089ASSwOW4Cih3frNuDtUv', 'id': '089ASSwOW4Cih3frNuDtUv', 'name': '1oneam', 'type': 'artist', 'uri': 'spotify:artist:089ASSwOW4Cih3frNuDtUv'}], 'available_markets': ['AR', 'AU', 'AT', 'BE', 'BO', 'BR', 'BG', 'CA', 'CL', 'CO', 'CR', 'CY', 'CZ', 'DK', 'DO', 'DE', 'EC', 'EE', 'SV', 'FI', 'FR', 'GR', 'GT', 'HN', 'HK', 'HU', 'IS', 'IE', 'IT', 'LV', 'LT', 'LU', 'MY', 'MT', 'MX', 'NL', 'NZ', 'NI', 'NO', 'PA', 'PY', 'PE', 'PH', 'PL', 'PT', 'SG', 'SK', 'ES', 'SE', 'CH', 'TW', 'TR', 'UY', 'US', 'GB', 'AD', 'LI', 'MC', 'ID', 'JP', 'TH', 'VN', 'RO', 'IL', 'ZA', 'SA', 'AE', 'BH', 'QA', 'OM', 'KW', 'EG', 'MA', 'DZ', 'TN', 'LB', 'JO', 'PS', 'IN', 'BY', 'KZ', 'MD', 'UA', 'AL', 'BA', 'HR', 'ME', 'MK', 'RS', 'SI', 'KR', 'BD', 'PK', 'LK', 'GH', 'KE', 'NG', 'TZ', 'UG', 'AG', 'AM', 'BS', 'BB', 'BZ', 'BT', 'BW', 'BF', 'CV', 'CW', 'DM', 'FJ', 'GM', 'GE', 'GD', 'GW', 'GY', 'HT', 'JM', 'KI', 'LS', 'LR', 'MW', 'MV', 'ML', 'MH', 'FM', 'NA', 'NR', 'NE', 'PW', 'PG', 'PR', 'WS', 'SM', 'ST', 'SN', 'SC', 'SL', 'SB', 'KN', 'LC', 'VC', 'SR', 'TL', 'TO', 'TT', 'TV', 'VU', 'AZ', 'BN', 'BI', 'KH', 'CM', 'TD', 'KM', 'GQ', 'SZ', 'GA', 'GN', 'KG', 'LA', 'MO', 'MR', 'MN', 'NP', 'RW', 'TG', 'UZ', 'ZW', 'BJ', 'MG', 'MU', 'MZ', 'AO', 'CI', 'DJ', 'ZM', 'CD', 'CG', 'IQ', 'LY', 'TJ', 'VE', 'ET', 'XK'], 'disc_number': 1, 'duration_ms': 99791, 'explicit': True, 'external_ids': {'isrc': 'QZTB92358646'}, 'external_urls': {'spotify': 'https://open.spotify.com/track/5V2prRQAGHLrB7OZlKXLgr'}, 'href': 'https://api.spotify.com/v1/tracks/5V2prRQAGHLrB7OZlKXLgr', 'id': '5V2prRQAGHLrB7OZlKXLgr', 'is_local': False, 'name': 'Drunk AF', 'popularity': 37, 'preview_url': 'https://p.scdn.co/mp3-preview/a14824590f346a79c66cf063fab6844f607a9e1e?cid=4902747b9d7c4f4195b991f29f8a680a', 'track_number': 1, 'type': 'track', 'uri': 'spotify:track:5V2prRQAGHLrB7OZlKXLgr'}, {'album': {'album_type': 'single', 'artists': [{'external_urls': {'spotify': 'https://open.spotify.com/artist/5XmObiDv74Etc9tJFMRtC4'}, 'href': 'https://api.spotify.com/v1/artists/5XmObiDv74Etc9tJFMRtC4', 'id': '5XmObiDv74Etc9tJFMRtC4', 'name': 'COPYCATT', 'type': 'artist', 'uri': 'spotify:artist:5XmObiDv74Etc9tJFMRtC4'}], 'available_markets': ['AR', 'AU', 'AT', 'BE', 'BO', 'BR', 'BG', 'CA', 'CL', 'CO', 'CR', 'CY', 'CZ', 'DK', 'DO', 'DE', 'EC', 'EE', 'SV', 'FI', 'FR', 'GR', 'GT', 'HN', 'HK', 'HU', 'IS', 'IE', 'IT', 'LV', 'LT', 'LU', 'MY', 'MT', 'MX', 'NL', 'NZ', 'NI', 'NO', 'PA', 'PY', 'PE', 'PH', 'PL', 'PT', 'SG', 'SK', 'ES', 'SE', 'CH', 'TW', 'TR', 'UY', 'US', 'GB', 'AD', 'LI', 'MC', 'ID', 'JP', 'TH', 'VN', 'RO', 'IL', 'ZA', 'SA', 'AE', 'BH', 'QA', 'OM', 'KW', 'EG', 'MA', 'DZ', 'TN', 'LB', 'JO', 'PS', 'IN', 'BY', 'KZ', 'MD', 'UA', 'AL', 'BA', 'HR', 'ME', 'MK', 'RS', 'SI', 'KR', 'BD', 'PK', 'LK', 'GH', 'KE', 'NG', 'TZ', 'UG', 'AG', 'AM', 'BS', 'BB', 'BZ', 'BT', 'BW', 'BF', 'CV', 'CW', 'DM', 'FJ', 'GM', 'GE', 'GD', 'GW', 'GY', 'HT', 'JM', 'KI', 'LS', 'LR', 'MW', 'MV', 'ML', 'MH', 'FM', 'NA', 'NR', 'NE', 'PW', 'PG', 'PR', 'WS', 'SM', 'ST', 'SN', 'SC', 'SL', 'SB', 'KN', 'LC', 'VC', 'SR', 'TL', 'TO', 'TT', 'TV', 'VU', 'AZ', 'BN', 'BI', 'KH', 'CM', 'TD', 'KM', 'GQ', 'SZ', 'GA', 'GN', 'KG', 'LA', 'MO', 'MR', 'MN', 'NP', 'RW', 'TG', 'UZ', 'ZW', 'BJ', 'MG', 'MU', 'MZ', 'AO', 'CI', 'DJ', 'ZM', 'CD', 'CG', 'IQ', 'LY', 'TJ', 'VE', 'ET', 'XK'], 'external_urls': {'spotify': 'https://open.spotify.com/album/4jpvVMVQVUoaCIfX4aTfGf'}, 'href': 'https://api.spotify.com/v1/albums/4jpvVMVQVUoaCIfX4aTfGf', 'id': '4jpvVMVQVUoaCIfX4aTfGf', 'images': [{'height': 640, 'url': 'https://i.scdn.co/image/ab67616d0000b273d0f56f4a5d760ffd29f5b278', 'width': 640}, {'height': 300, 'url': 'https://i.scdn.co/image/ab67616d00001e02d0f56f4a5d760ffd29f5b278', 'width': 300}, {'height': 64, 'url': 'https://i.scdn.co/image/ab67616d00004851d0f56f4a5d760ffd29f5b278', 'width': 64}], 'name': 'Two Track EP', 'release_date': '2015-10-12', 'release_date_precision': 'day', 'total_tracks': 3, 'type': 'album', 'uri': 'spotify:album:4jpvVMVQVUoaCIfX4aTfGf'}, 'artists': [{'external_urls': {'spotify': 'https://open.spotify.com/artist/5XmObiDv74Etc9tJFMRtC4'}, 'href': 'https://api.spotify.com/v1/artists/5XmObiDv74Etc9tJFMRtC4', 'id': '5XmObiDv74Etc9tJFMRtC4', 'name': 'COPYCATT', 'type': 'artist', 'uri': 'spotify:artist:5XmObiDv74Etc9tJFMRtC4'}], 'available_markets': ['AR', 'AU', 'AT', 'BE', 'BO', 'BR', 'BG', 'CA', 'CL', 'CO', 'CR', 'CY', 'CZ', 'DK', 'DO', 'DE', 'EC', 'EE', 'SV', 'FI', 'FR', 'GR', 'GT', 'HN', 'HK', 'HU', 'IS', 'IE', 'IT', 'LV', 'LT', 'LU', 'MY', 'MT', 'MX', 'NL', 'NZ', 'NI', 'NO', 'PA', 'PY', 'PE', 'PH', 'PL', 'PT', 'SG', 'SK', 'ES', 'SE', 'CH', 'TW', 'TR', 'UY', 'US', 'GB', 'AD', 'LI', 'MC', 'ID', 'JP', 'TH', 'VN', 'RO', 'IL', 'ZA', 'SA', 'AE', 'BH', 'QA', 'OM', 'KW', 'EG', 'MA', 'DZ', 'TN', 'LB', 'JO', 'PS', 'IN', 'BY', 'KZ', 'MD', 'UA', 'AL', 'BA', 'HR', 'ME', 'MK', 'RS', 'SI', 'KR', 'BD', 'PK', 'LK', 'GH', 'KE', 'NG', 'TZ', 'UG', 'AG', 'AM', 'BS', 'BB', 'BZ', 'BT', 'BW', 'BF', 'CV', 'CW', 'DM', 'FJ', 'GM', 'GE', 'GD', 'GW', 'GY', 'HT', 'JM', 'KI', 'LS', 'LR', 'MW', 'MV', 'ML', 'MH', 'FM', 'NA', 'NR', 'NE', 'PW', 'PG', 'PR', 'WS', 'SM', 'ST', 'SN', 'SC', 'SL', 'SB', 'KN', 'LC', 'VC', 'SR', 'TL', 'TO', 'TT', 'TV', 'VU', 'AZ', 'BN', 'BI', 'KH', 'CM', 'TD', 'KM', 'GQ', 'SZ', 'GA', 'GN', 'KG', 'LA', 'MO', 'MR', 'MN', 'NP', 'RW', 'TG', 'UZ', 'ZW', 'BJ', 'MG', 'MU', 'MZ', 'AO', 'CI', 'DJ', 'ZM', 'CD', 'CG', 'IQ', 'LY', 'TJ', 'VE', 'ET', 'XK'], 'disc_number': 1, 'duration_ms': 84504, 'explicit': False, 'external_ids': {'isrc': 'USLZJ1655722'}, 'external_urls': {'spotify': 'https://open.spotify.com/track/3fA9GGH6ZImtVXQiRtjqES'}, 'href': 'https://api.spotify.com/v1/tracks/3fA9GGH6ZImtVXQiRtjqES', 'id': '3fA9GGH6ZImtVXQiRtjqES', 'is_local': False, 'name': 'Drunk', 'popularity': 17, 'preview_url': 'https://p.scdn.co/mp3-preview/96797452386e09527aead04cdd985fea72405c5b?cid=4902747b9d7c4f4195b991f29f8a680a', 'track_number': 3, 'type': 'track', 'uri': 'spotify:track:3fA9GGH6ZImtVXQiRtjqES'}, {'album': {'album_type': 'single', 'artists': [{'external_urls': {'spotify': 'https://open.spotify.com/artist/3gIWD9hK0VEhgsSrLu19PU'}, 'href': 'https://api.spotify.com/v1/artists/3gIWD9hK0VEhgsSrLu19PU', 'id': '3gIWD9hK0VEhgsSrLu19PU', 'name': 'YN Jay', 'type': 'artist', 'uri': 'spotify:artist:3gIWD9hK0VEhgsSrLu19PU'}], 'available_markets': ['AR', 'AU', 'AT', 'BE', 'BO', 'BR', 'BG', 'CA', 'CL', 'CO', 'CR', 'CY', 'CZ', 'DK', 'DO', 'DE', 'EC', 'EE', 'SV', 'FI', 'FR', 'GR', 'GT', 'HN', 'HK', 'HU', 'IS', 'IE', 'IT', 'LV', 'LT', 'LU', 'MY', 'MT', 'MX', 'NL', 'NZ', 'NI', 'NO', 'PA', 'PY', 'PE', 'PH', 'PL', 'PT', 'SG', 'SK', 'ES', 'SE', 'CH', 'TW', 'TR', 'UY', 'US', 'GB', 'AD', 'LI', 'MC', 'ID', 'JP', 'TH', 'VN', 'RO', 'IL', 'ZA', 'SA', 'AE', 'BH', 'QA', 'OM', 'KW', 'EG', 'MA', 'DZ', 'TN', 'LB', 'JO', 'PS', 'IN', 'BY', 'KZ', 'MD', 'UA', 'AL', 'BA', 'HR', 'ME', 'MK', 'RS', 'SI', 'KR', 'BD', 'PK', 'LK', 'GH', 'KE', 'NG', 'TZ', 'UG', 'AG', 'AM', 'BS', 'BB', 'BZ', 'BT', 'BW', 'BF', 'CV', 'CW', 'DM', 'FJ', 'GM', 'GE', 'GD', 'GW', 'GY', 'HT', 'JM', 'KI', 'LS', 'LR', 'MW', 'MV', 'ML', 'MH', 'FM', 'NA', 'NR', 'NE', 'PW', 'PG', 'PR', 'WS', 'SM', 'ST', 'SN', 'SC', 'SL', 'SB', 'KN', 'LC', 'VC', 'SR', 'TL', 'TO', 'TT', 'TV', 'VU', 'AZ', 'BN', 'BI', 'KH', 'CM', 'TD', 'KM', 'GQ', 'SZ', 'GA', 'GN', 'KG', 'LA', 'MO', 'MR', 'MN', 'NP', 'RW', 'TG', 'UZ', 'ZW', 'BJ', 'MG', 'MU', 'MZ', 'AO', 'CI', 'DJ', 'ZM', 'CD', 'CG', 'IQ', 'LY', 'TJ', 'VE', 'ET', 'XK'], 'external_urls': {'spotify': 'https://open.spotify.com/album/6kzmEIe0RweAccWzmS77LR'}, 'href': 'https://api.spotify.com/v1/albums/6kzmEIe0RweAccWzmS77LR', 'id': '6kzmEIe0RweAccWzmS77LR', 'images': [{'height': 640, 'url': 'https://i.scdn.co/image/ab67616d0000b273534882157b696476c669d0e6', 'width': 640}, {'height': 300, 'url': 'https://i.scdn.co/image/ab67616d00001e02534882157b696476c669d0e6', 'width': 300}, {'height': 64, 'url': 'https://i.scdn.co/image/ab67616d00004851534882157b696476c669d0e6', 'width': 64}], 'name': 'Drunk When I Made This', 'release_date': '2021-04-16', 'release_date_precision': 'day', 'total_tracks': 1, 'type': 'album', 'uri': 'spotify:album:6kzmEIe0RweAccWzmS77LR'}, 'artists': [{'external_urls': {'spotify': 'https://open.spotify.com/artist/3gIWD9hK0VEhgsSrLu19PU'}, 'href': 'https://api.spotify.com/v1/artists/3gIWD9hK0VEhgsSrLu19PU', 'id': '3gIWD9hK0VEhgsSrLu19PU', 'name': 'YN Jay', 'type': 'artist', 'uri': 'spotify:artist:3gIWD9hK0VEhgsSrLu19PU'}], 'available_markets': ['AR', 'AU', 'AT', 'BE', 'BO', 'BR', 'BG', 'CA', 'CL', 'CO', 'CR', 'CY', 'CZ', 'DK', 'DO', 'DE', 'EC', 'EE', 'SV', 'FI', 'FR', 'GR', 'GT', 'HN', 'HK', 'HU', 'IS', 'IE', 'IT', 'LV', 'LT', 'LU', 'MY', 'MT', 'MX', 'NL', 'NZ', 'NI', 'NO', 'PA', 'PY', 'PE', 'PH', 'PL', 'PT', 'SG', 'SK', 'ES', 'SE', 'CH', 'TW', 'TR', 'UY', 'US', 'GB', 'AD', 'LI', 'MC', 'ID', 'JP', 'TH', 'VN', 'RO', 'IL', 'ZA', 'SA', 'AE', 'BH', 'QA', 'OM', 'KW', 'EG', 'MA', 'DZ', 'TN', 'LB', 'JO', 'PS', 'IN', 'BY', 'KZ', 'MD', 'UA', 'AL', 'BA', 'HR', 'ME', 'MK', 'RS', 'SI', 'KR', 'BD', 'PK', 'LK', 'GH', 'KE', 'NG', 'TZ', 'UG', 'AG', 'AM', 'BS', 'BB', 'BZ', 'BT', 'BW', 'BF', 'CV', 'CW', 'DM', 'FJ', 'GM', 'GE', 'GD', 'GW', 'GY', 'HT', 'JM', 'KI', 'LS', 'LR', 'MW', 'MV', 'ML', 'MH', 'FM', 'NA', 'NR', 'NE', 'PW', 'PG', 'PR', 'WS', 'SM', 'ST', 'SN', 'SC', 'SL', 'SB', 'KN', 'LC', 'VC', 'SR', 'TL', 'TO', 'TT', 'TV', 'VU', 'AZ', 'BN', 'BI', 'KH', 'CM', 'TD', 'KM', 'GQ', 'SZ', 'GA', 'GN', 'KG', 'LA', 'MO', 'MR', 'MN', 'NP', 'RW', 'TG', 'UZ', 'ZW', 'BJ', 'MG', 'MU', 'MZ', 'AO', 'CI', 'DJ', 'ZM', 'CD', 'CG', 'IQ', 'LY', 'TJ', 'VE', 'ET', 'XK'], 'disc_number': 1, 'duration_ms': 147957, 'explicit': True, 'external_ids': {'isrc': 'USLD91732044'}, 'external_urls': {'spotify': 'https://open.spotify.com/track/6J7JGJd4zYlGGoLCRnWRmq'}, 'href': 'https://api.spotify.com/v1/tracks/6J7JGJd4zYlGGoLCRnWRmq', 'id': '6J7JGJd4zYlGGoLCRnWRmq', 'is_local': False, 'name': 'Drunk When I Made This', 'popularity': 33, 'preview_url': 'https://p.scdn.co/mp3-preview/67188b124defbc984e9467856f6e71878c0d609c?cid=4902747b9d7c4f4195b991f29f8a680a', 'track_number': 1, 'type': 'track', 'uri': 'spotify:track:6J7JGJd4zYlGGoLCRnWRmq'}, {'album': {'album_type': 'single', 'artists': [{'external_urls': {'spotify': 'https://open.spotify.com/artist/1ElKPqF9pH9WwwymWqiJxz'}, 'href': 'https://api.spotify.com/v1/artists/1ElKPqF9pH9WwwymWqiJxz', 'id': '1ElKPqF9pH9WwwymWqiJxz', 'name': 'B Goodie', 'type': 'artist', 'uri': 'spotify:artist:1ElKPqF9pH9WwwymWqiJxz'}], 'available_markets': ['AR', 'AU', 'AT', 'BE', 'BO', 'BR', 'BG', 'CA', 'CL', 'CO', 'CR', 'CY', 'CZ', 'DK', 'DO', 'DE', 'EC', 'EE', 'SV', 'FI', 'FR', 'GR', 'GT', 'HN', 'HK', 'HU', 'IS', 'IE', 'IT', 'LV', 'LT', 'LU', 'MY', 'MT', 'MX', 'NL', 'NZ', 'NI', 'NO', 'PA', 'PY', 'PE', 'PH', 'PL', 'PT', 'SG', 'SK', 'ES', 'SE', 'CH', 'TW', 'TR', 'UY', 'US', 'GB', 'AD', 'LI', 'MC', 'ID', 'JP', 'TH', 'VN', 'RO', 'IL', 'ZA', 'SA', 'AE', 'BH', 'QA', 'OM', 'KW', 'EG', 'MA', 'DZ', 'TN', 'LB', 'JO', 'PS', 'IN', 'BY', 'KZ', 'MD', 'UA', 'AL', 'BA', 'HR', 'ME', 'MK', 'RS', 'SI', 'KR', 'BD', 'PK', 'LK', 'GH', 'KE', 'NG', 'TZ', 'UG', 'AG', 'AM', 'BS', 'BB', 'BZ', 'BT', 'BW', 'BF', 'CV', 'CW', 'DM', 'FJ', 'GM', 'GE', 'GD', 'GW', 'GY', 'HT', 'JM', 'KI', 'LS', 'LR', 'MW', 'MV', 'ML', 'MH', 'FM', 'NA', 'NR', 'NE', 'PW', 'PG', 'PR', 'WS', 'SM', 'ST', 'SN', 'SC', 'SL', 'SB', 'KN', 'LC', 'VC', 'SR', 'TL', 'TO', 'TT', 'TV', 'VU', 'AZ', 'BN', 'BI', 'KH', 'CM', 'TD', 'KM', 'GQ', 'SZ', 'GA', 'GN', 'KG', 'LA', 'MO', 'MR', 'MN', 'NP', 'RW', 'TG', 'UZ', 'ZW', 'BJ', 'MG', 'MU', 'MZ', 'AO', 'CI', 'DJ', 'ZM', 'CD', 'CG', 'IQ', 'LY', 'TJ', 'VE', 'ET', 'XK'], 'external_urls': {'spotify': 'https://open.spotify.com/album/1ekvnj0tKXBRl8xynWnryA'}, 'href': 'https://api.spotify.com/v1/albums/1ekvnj0tKXBRl8xynWnryA', 'id': '1ekvnj0tKXBRl8xynWnryA', 'images': [{'height': 640, 'url': 'https://i.scdn.co/image/ab67616d0000b273ea504d446bb71960b3b0b58c', 'width': 640}, {'height': 300, 'url': 'https://i.scdn.co/image/ab67616d00001e02ea504d446bb71960b3b0b58c', 'width': 300}, {'height': 64, 'url': 'https://i.scdn.co/image/ab67616d00004851ea504d446bb71960b3b0b58c', 'width': 64}], 'name': 'Drunk (Jersey Club)', 'release_date': '2022-10-14', 'release_date_precision': 'day', 'total_tracks': 1, 'type': 'album', 'uri': 'spotify:album:1ekvnj0tKXBRl8xynWnryA'}, 'artists': [{'external_urls': {'spotify': 'https://open.spotify.com/artist/1ElKPqF9pH9WwwymWqiJxz'}, 'href': 'https://api.spotify.com/v1/artists/1ElKPqF9pH9WwwymWqiJxz', 'id': '1ElKPqF9pH9WwwymWqiJxz', 'name': 'B Goodie', 'type': 'artist', 'uri': 'spotify:artist:1ElKPqF9pH9WwwymWqiJxz'}], 'available_markets': ['AR', 'AU', 'AT', 'BE', 'BO', 'BR', 'BG', 'CA', 'CL', 'CO', 'CR', 'CY', 'CZ', 'DK', 'DO', 'DE', 'EC', 'EE', 'SV', 'FI', 'FR', 'GR', 'GT', 'HN', 'HK', 'HU', 'IS', 'IE', 'IT', 'LV', 'LT', 'LU', 'MY', 'MT', 'MX', 'NL', 'NZ', 'NI', 'NO', 'PA', 'PY', 'PE', 'PH', 'PL', 'PT', 'SG', 'SK', 'ES', 'SE', 'CH', 'TW', 'TR', 'UY', 'US', 'GB', 'AD', 'LI', 'MC', 'ID', 'JP', 'TH', 'VN', 'RO', 'IL', 'ZA', 'SA', 'AE', 'BH', 'QA', 'OM', 'KW', 'EG', 'MA', 'DZ', 'TN', 'LB', 'JO', 'PS', 'IN', 'BY', 'KZ', 'MD', 'UA', 'AL', 'BA', 'HR', 'ME', 'MK', 'RS', 'SI', 'KR', 'BD', 'PK', 'LK', 'GH', 'KE', 'NG', 'TZ', 'UG', 'AG', 'AM', 'BS', 'BB', 'BZ', 'BT', 'BW', 'BF', 'CV', 'CW', 'DM', 'FJ', 'GM', 'GE', 'GD', 'GW', 'GY', 'HT', 'JM', 'KI', 'LS', 'LR', 'MW', 'MV', 'ML', 'MH', 'FM', 'NA', 'NR', 'NE', 'PW', 'PG', 'PR', 'WS', 'SM', 'ST', 'SN', 'SC', 'SL', 'SB', 'KN', 'LC', 'VC', 'SR', 'TL', 'TO', 'TT', 'TV', 'VU', 'AZ', 'BN', 'BI', 'KH', 'CM', 'TD', 'KM', 'GQ', 'SZ', 'GA', 'GN', 'KG', 'LA', 'MO', 'MR', 'MN', 'NP', 'RW', 'TG', 'UZ', 'ZW', 'BJ', 'MG', 'MU', 'MZ', 'AO', 'CI', 'DJ', 'ZM', 'CD', 'CG', 'IQ', 'LY', 'TJ', 'VE', 'ET', 'XK'], 'disc_number': 1, 'duration_ms': 79069, 'explicit': False, 'external_ids': {'isrc': 'QZRP52232333'}, 'external_urls': {'spotify': 'https://open.spotify.com/track/2RZzaUEKZIxsUpVAVndUJp'}, 'href': 'https://api.spotify.com/v1/tracks/2RZzaUEKZIxsUpVAVndUJp', 'id': '2RZzaUEKZIxsUpVAVndUJp', 'is_local': False, 'name': 'Drunk - Jersey Club', 'popularity': 32, 'preview_url': 'https://p.scdn.co/mp3-preview/4209e3825d8bcc61c349e82abd777e6e35cb7659?cid=4902747b9d7c4f4195b991f29f8a680a', 'track_number': 1, 'type': 'track', 'uri': 'spotify:track:2RZzaUEKZIxsUpVAVndUJp'}], 'limit': 5, 'next': 'https://api.spotify.com/v1/search?query=track%3A+DRUNK+year%3A+2018&type=track&offset=5&limit=5', 'offset': 0, 'previous': None, 'total': 798}\n",
      "[{'danceability': 0.626, 'energy': 0.67, 'key': 7, 'loudness': -6.6, 'mode': 0, 'speechiness': 0.0944, 'acousticness': 0.55, 'instrumentalness': 0, 'liveness': 0.116, 'valence': 0.497, 'tempo': 79.839, 'type': 'audio_features', 'id': '4EbkZDvPwVSM22b9udLZfq', 'uri': 'spotify:track:4EbkZDvPwVSM22b9udLZfq', 'track_href': 'https://api.spotify.com/v1/tracks/4EbkZDvPwVSM22b9udLZfq', 'analysis_url': 'https://api.spotify.com/v1/audio-analysis/4EbkZDvPwVSM22b9udLZfq', 'duration_ms': 170837, 'time_signature': 4}]\n",
      "DRUNK\n"
     ]
    }
   ],
   "source": [
    "blinding_lights = find_song('DRUNK', 2018)\n",
    "print(blinding_lights['name'][0])"
   ]
  }
 ],
 "metadata": {
  "kernelspec": {
   "display_name": "Python 3",
   "language": "python",
   "name": "python3"
  },
  "language_info": {
   "codemirror_mode": {
    "name": "ipython",
    "version": 3
   },
   "file_extension": ".py",
   "mimetype": "text/x-python",
   "name": "python",
   "nbconvert_exporter": "python",
   "pygments_lexer": "ipython3",
   "version": "3.11.3"
  }
 },
 "nbformat": 4,
 "nbformat_minor": 2
}
